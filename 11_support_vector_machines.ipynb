{
 "cells": [
  {
   "cell_type": "markdown",
   "metadata": {},
   "source": [
    "# Support Vector Machines\n",
    "\n",
    "## Large Margin Classification\n",
    "\n",
    "### Optimization Objective\n",
    "\n",
    "Support vector machine is another supervised learning algorithm. We can get the support vector machine cost function by modifying the cost function for logistic regression.\n",
    "\n",
    "Our hypothesis for logistic regression is:\n",
    "\n",
    "$$ h_\\theta(x) = \\frac{1}{1 + e^{-\\theta^Tx}} $$\n",
    "\n",
    "If $y = 1$, then we want $h_\\theta(x) \\approx 1$, and so we want $\\theta^Tx$ to be much greater than 0. And if $y = 0$, then we want $h_\\theta(x) \\approx 0$, and $\\theta^Tx$ to be much less than 0.\n",
    "\n",
    "Each training example contributes a term like this to the overall cost function:\n",
    "\n",
    "$$-y\\log(\\frac{1}{1 + e^{-\\theta^Tx}}) - (1 - y)\\log(1 - \\frac{1}{1 + e^{-\\theta^Tx}})$$\n",
    "\n",
    "Consider the case where $y = 1$. In this case, only the term $-y\\log(\\frac{1}{1 + e^{-\\theta^Tx}})$ from the cost function above matters, as the other is cancelled out.\n",
    "\n",
    "To build a support vector machine we're going to modify the $-y\\log(\\frac{1}{1 + e^{-\\theta^Tx}})$ cost function a little bit.\n",
    "\n",
    "In the case of $y = 0$, we need to modify the term $\\log(1 - \\frac{1}{1 + e^{-\\theta^Tx}})$. \n",
    "\n",
    "Let's say we're going to replace $-y\\log(\\frac{1}{1 + e^{-\\theta^Tx}})$ with $\\text{cost}_1(\\theta^Tx)$ and $(1 - y)\\log(1 - \\frac{1}{1 + e^{-\\theta^Tx}})$ with $\\text{cost}_0(\\theta^Tx)$.\n",
    "\n",
    "The overall cost function for logistic regression is:\n",
    "\n",
    "$$ J(\\theta) = \\frac{1}{m} \\bigg[\\sum_{i=1}^{m} y^{(i)}-\\log(h_\\theta(x^{(i)})) + (1 - y^{(i)})-\\log(1 - h_\\theta(x^{(i)}))\\bigg] $$\n"
   ]
  },
  {
   "cell_type": "code",
   "execution_count": null,
   "metadata": {
    "collapsed": true
   },
   "outputs": [],
   "source": []
  }
 ],
 "metadata": {
  "anaconda-cloud": {},
  "kernelspec": {
   "display_name": "Python [conda env:py27]",
   "language": "python",
   "name": "conda-env-py27-py"
  },
  "language_info": {
   "codemirror_mode": {
    "name": "ipython",
    "version": 2
   },
   "file_extension": ".py",
   "mimetype": "text/x-python",
   "name": "python",
   "nbconvert_exporter": "python",
   "pygments_lexer": "ipython2",
   "version": "2.7.12"
  }
 },
 "nbformat": 4,
 "nbformat_minor": 1
}
